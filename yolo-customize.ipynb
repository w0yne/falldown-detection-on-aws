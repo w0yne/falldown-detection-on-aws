{
 "cells": [
  {
   "cell_type": "markdown",
   "metadata": {},
   "source": [
    "# YOLO11 Model Conversion to TensorFlow.js and Upload to Amazon S3\n",
    "# ----------------------------------------------------------------------------------"
   ]
  },
  {
   "cell_type": "code",
   "execution_count": null,
   "metadata": {},
   "outputs": [],
   "source": [
    "# Step 1: Install Required Libraries\n",
    "# Install necessary libraries including Ultralytics, TensorFlow, ONNX, ONNX-TF, and TensorFlow.js\n",
    "!pip install ultralytics tensorflow tensorflowjs onnx onnx-tf"
   ]
  },
  {
   "cell_type": "code",
   "execution_count": null,
   "metadata": {},
   "outputs": [],
   "source": [
    "# Step 2: Load YOLO11 Model and Export to ONNX Format\n",
    "# Import YOLO from the Ultralytics package, load a YOLO11 model, and export to ONNX format\n",
    "\n",
    "from ultralytics import YOLO\n",
    "\n",
    "# Load a pre-trained YOLO11 model; replace \"yolo11n.pt\" with your desired model file\n",
    "model = YOLO(\"yolo11n.pt\")  # YOLO11 nano model; you can use other YOLO11 variants, e.g., \"yolo11s.pt\"\n",
    "\n",
    "# Export the YOLO11 model to ONNX format\n",
    "model.export(format=\"onnx\")\n",
    "\n",
    "# The ONNX file (e.g., \"yolo11n.onnx\") will be saved in the current working directory."
   ]
  },
  {
   "cell_type": "code",
   "execution_count": null,
   "metadata": {},
   "outputs": [],
   "source": [
    "# Step 3: Convert ONNX Model to TensorFlow SavedModel\n",
    "# Use ONNX-TF to load the ONNX model and convert it to TensorFlow SavedModel format\n",
    "\n",
    "import onnx\n",
    "from onnx_tf.backend import prepare\n",
    "\n",
    "# Load the ONNX model generated from the previous step\n",
    "onnx_model = onnx.load(\"yolo11n.onnx\")\n",
    "\n",
    "# Convert the ONNX model to TensorFlow SavedModel\n",
    "tf_rep = prepare(onnx_model)\n",
    "tf_rep.export_graph(\"yolo11_saved_model\")\n",
    "\n",
    "# The TensorFlow SavedModel will be stored in the `yolo11_saved_model` directory."
   ]
  },
  {
   "cell_type": "code",
   "execution_count": null,
   "metadata": {},
   "outputs": [],
   "source": [
    "# Step 4: Convert TensorFlow SavedModel to TensorFlow.js Format\n",
    "# Use TensorFlow.js converter to transform the SavedModel to a web-compatible format\n",
    "\n",
    "!tensorflowjs_converter --input_format=tf_saved_model --output_format=tfjs_graph_model yolo11_saved_model yolo11_web_model\n",
    "\n",
    "# The `yolo11_web_model` directory will contain a `model.json` and weight files in `.bin` format."
   ]
  },
  {
   "cell_type": "code",
   "execution_count": null,
   "metadata": {},
   "outputs": [],
   "source": [
    "# Step 5: Upload Converted Model to Amazon S3\n",
    "# Define the S3 bucket and path where the model files will be uploaded\n",
    "\n",
    "import boto3\n",
    "import os\n",
    "\n",
    "# Initialize the S3 client\n",
    "s3 = boto3.client('s3')\n",
    "\n",
    "# Set your bucket name and the target directory within the bucket\n",
    "bucket_name = 'your-s3-bucket-name'  # Replace with your actual S3 bucket name\n",
    "upload_prefix = 'models/yolo11_web_model'  # Target S3 directory for the model\n",
    "\n",
    "# Upload each file in the TensorFlow.js model directory to S3\n",
    "model_dir = 'yolo11_web_model'\n",
    "for root, dirs, files in os.walk(model_dir):\n",
    "    for file in files:\n",
    "        local_path = os.path.join(root, file)\n",
    "        s3_key = os.path.join(upload_prefix, file)\n",
    "        s3.upload_file(local_path, bucket_name, s3_key)\n",
    "        print(f'Uploaded {local_path} to s3://{bucket_name}/{s3_key}')\n",
    "\n",
    "# The model files are now available in the specified S3 bucket and directory."
   ]
  },
  {
   "cell_type": "markdown",
   "metadata": {},
   "source": [
    "# ----------------------------------------------------------------------------------\n",
    "# Summary\n",
    "# - This notebook converts the YOLO11 model from Ultralytics to TensorFlow.js format.\n",
    "# - The TensorFlow.js model is uploaded to S3, making it accessible for web applications.\n",
    "# ----------------------------------------------------------------------------------"
   ]
  }
 ],
 "metadata": {
  "language_info": {
   "name": "python"
  }
 },
 "nbformat": 4,
 "nbformat_minor": 2
}
